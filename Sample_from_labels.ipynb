{
 "cells": [
  {
   "cell_type": "code",
   "execution_count": 1,
   "metadata": {},
   "outputs": [],
   "source": [
    "import numpy as np\n",
    "import pandas as pd\n",
    "import pickle\n",
    "from sklearn.utils import shuffle"
   ]
  },
  {
   "cell_type": "code",
   "execution_count": 2,
   "metadata": {},
   "outputs": [
    {
     "name": "stdout",
     "output_type": "stream",
     "text": [
      "{'Media': 50, 'Arts & Entertainment': 50, 'Business & Industrial': 50, 'Software': 50, 'Toys & Games': 50, 'Apparel & Accessories': 50, 'Cameras & Optics': 50, 'Animals & Pet Supplies': 50, 'Furniture': 50, 'Home & Garden': 50, 'Hardware': 50, 'Mature': 50, 'Baby & Toddler': 50, 'Food, Beverages & Tobacco': 50, 'Health & Beauty': 50, 'Office Supplies': 50, 'Luggage & Bags': 50, 'Sporting Goods': 50, 'Religious & Ceremonial': 50, 'Vehicles & Parts': 50, 'Electronics': 50}\n"
     ]
    }
   ],
   "source": [
    "id_to_id = pd.read_excel('./taxonomy-with-ids.en-US.xls')\n",
    "label = pd.read_csv('./labels.csv')\n",
    "categories = []\n",
    "for sec_col in id_to_id['Animals & Pet Supplies']:\n",
    "    categories.append(sec_col)\n",
    "categories = set(categories)\n",
    "cat_count = dict([(cat_name, 50) for cat_name in categories])\n",
    "print(cat_count)\n",
    "sample = []\n",
    "kcount = 0\n",
    "label = shuffle(label)\n",
    "for row in label.values:\n",
    "    temp = []\n",
    "    try:\n",
    "        if cat_count[row[7]] > 0:\n",
    "            temp.append(row[1])\n",
    "            temp.append(row[2])\n",
    "            temp.append(row[3])\n",
    "            temp.append(row[4])\n",
    "            temp.append(row[5])\n",
    "            temp.append(row[6])\n",
    "            temp.append(row[7])\n",
    "            cat_count[row[7]] -= 1\n",
    "            sample.append(temp)\n",
    "    except KeyError:\n",
    "        kcount += 1\n",
    "sample = pd.DataFrame(sample, columns = ['shop_id', 'product_id', 'price', 'title', 'category_id', 'labels', 'cat_name'])\n",
    "sample.to_csv('./sampled.csv')"
   ]
  },
  {
   "cell_type": "code",
   "execution_count": 3,
   "metadata": {},
   "outputs": [
    {
     "data": {
      "text/plain": [
       "950"
      ]
     },
     "execution_count": 3,
     "metadata": {},
     "output_type": "execute_result"
    }
   ],
   "source": [
    "len(sample)"
   ]
  },
  {
   "cell_type": "code",
   "execution_count": 4,
   "metadata": {},
   "outputs": [
    {
     "data": {
      "text/plain": [
       "0"
      ]
     },
     "execution_count": 4,
     "metadata": {},
     "output_type": "execute_result"
    }
   ],
   "source": [
    "kcount"
   ]
  },
  {
   "cell_type": "code",
   "execution_count": 5,
   "metadata": {
    "scrolled": false
   },
   "outputs": [
    {
     "name": "stdout",
     "output_type": "stream",
     "text": [
      "Media\n",
      "50\n",
      "Arts & Entertainment\n",
      "0\n",
      "Business & Industrial\n",
      "0\n",
      "Software\n",
      "0\n",
      "Toys & Games\n",
      "0\n",
      "Apparel & Accessories\n",
      "0\n",
      "Cameras & Optics\n",
      "0\n",
      "Animals & Pet Supplies\n",
      "0\n",
      "Furniture\n",
      "0\n",
      "Home & Garden\n",
      "0\n",
      "Hardware\n",
      "0\n",
      "Mature\n",
      "50\n",
      "Baby & Toddler\n",
      "0\n",
      "Food, Beverages & Tobacco\n",
      "0\n",
      "Health & Beauty\n",
      "0\n",
      "Office Supplies\n",
      "0\n",
      "Luggage & Bags\n",
      "0\n",
      "Sporting Goods\n",
      "0\n",
      "Religious & Ceremonial\n",
      "0\n",
      "Vehicles & Parts\n",
      "0\n",
      "Electronics\n",
      "0\n"
     ]
    }
   ],
   "source": [
    "for key in cat_count.keys():\n",
    "    print(key)\n",
    "    print(cat_count[key])"
   ]
  },
  {
   "cell_type": "code",
   "execution_count": 4,
   "metadata": {},
   "outputs": [],
   "source": [
    "label = pd.read_csv('./labels.csv')"
   ]
  },
  {
   "cell_type": "code",
   "execution_count": 5,
   "metadata": {},
   "outputs": [
    {
     "data": {
      "text/html": [
       "<div>\n",
       "<style scoped>\n",
       "    .dataframe tbody tr th:only-of-type {\n",
       "        vertical-align: middle;\n",
       "    }\n",
       "\n",
       "    .dataframe tbody tr th {\n",
       "        vertical-align: top;\n",
       "    }\n",
       "\n",
       "    .dataframe thead th {\n",
       "        text-align: right;\n",
       "    }\n",
       "</style>\n",
       "<table border=\"1\" class=\"dataframe\">\n",
       "  <thead>\n",
       "    <tr style=\"text-align: right;\">\n",
       "      <th></th>\n",
       "      <th>Unnamed: 0</th>\n",
       "      <th>shop_id</th>\n",
       "      <th>product_id</th>\n",
       "      <th>price</th>\n",
       "      <th>title</th>\n",
       "      <th>category_id</th>\n",
       "      <th>labels</th>\n",
       "      <th>cat_name</th>\n",
       "    </tr>\n",
       "  </thead>\n",
       "  <tbody>\n",
       "    <tr>\n",
       "      <th>0</th>\n",
       "      <td>0</td>\n",
       "      <td>9472</td>\n",
       "      <td>492703</td>\n",
       "      <td>25.0</td>\n",
       "      <td>玉米粒(普通蓋) Sweet whole krenel corn</td>\n",
       "      <td>6609</td>\n",
       "      <td>6609</td>\n",
       "      <td>Food, Beverages &amp; Tobacco</td>\n",
       "    </tr>\n",
       "    <tr>\n",
       "      <th>1</th>\n",
       "      <td>1</td>\n",
       "      <td>9472</td>\n",
       "      <td>492704</td>\n",
       "      <td>27.0</td>\n",
       "      <td>玉米粒(易開罐) Sweet whole krenel corn</td>\n",
       "      <td>6609</td>\n",
       "      <td>6609</td>\n",
       "      <td>Food, Beverages &amp; Tobacco</td>\n",
       "    </tr>\n",
       "    <tr>\n",
       "      <th>2</th>\n",
       "      <td>2</td>\n",
       "      <td>9472</td>\n",
       "      <td>527257</td>\n",
       "      <td>200.0</td>\n",
       "      <td>小資嘗鮮罐頭禮盒(6入/盒)</td>\n",
       "      <td>5091</td>\n",
       "      <td>5091</td>\n",
       "      <td>Arts &amp; Entertainment</td>\n",
       "    </tr>\n",
       "    <tr>\n",
       "      <th>3</th>\n",
       "      <td>3</td>\n",
       "      <td>9472</td>\n",
       "      <td>527316</td>\n",
       "      <td>240.0</td>\n",
       "      <td>好媽媽熱銷罐頭禮盒(7入/盒)</td>\n",
       "      <td>5091</td>\n",
       "      <td>5091</td>\n",
       "      <td>Arts &amp; Entertainment</td>\n",
       "    </tr>\n",
       "    <tr>\n",
       "      <th>4</th>\n",
       "      <td>4</td>\n",
       "      <td>9472</td>\n",
       "      <td>492710</td>\n",
       "      <td>65.0</td>\n",
       "      <td>精選鳳梨片(10片) 易開罐 Choice sliced Pineapple in heav...</td>\n",
       "      <td>6670</td>\n",
       "      <td>6670</td>\n",
       "      <td>Food, Beverages &amp; Tobacco</td>\n",
       "    </tr>\n",
       "  </tbody>\n",
       "</table>\n",
       "</div>"
      ],
      "text/plain": [
       "   Unnamed: 0  shop_id  product_id  price  \\\n",
       "0           0     9472      492703   25.0   \n",
       "1           1     9472      492704   27.0   \n",
       "2           2     9472      527257  200.0   \n",
       "3           3     9472      527316  240.0   \n",
       "4           4     9472      492710   65.0   \n",
       "\n",
       "                                               title  category_id  labels  \\\n",
       "0                   玉米粒(普通蓋) Sweet whole krenel corn         6609    6609   \n",
       "1                   玉米粒(易開罐) Sweet whole krenel corn         6609    6609   \n",
       "2                                     小資嘗鮮罐頭禮盒(6入/盒)         5091    5091   \n",
       "3                                    好媽媽熱銷罐頭禮盒(7入/盒)         5091    5091   \n",
       "4  精選鳳梨片(10片) 易開罐 Choice sliced Pineapple in heav...         6670    6670   \n",
       "\n",
       "                    cat_name  \n",
       "0  Food, Beverages & Tobacco  \n",
       "1  Food, Beverages & Tobacco  \n",
       "2       Arts & Entertainment  \n",
       "3       Arts & Entertainment  \n",
       "4  Food, Beverages & Tobacco  "
      ]
     },
     "execution_count": 5,
     "metadata": {},
     "output_type": "execute_result"
    }
   ],
   "source": [
    "label.head()"
   ]
  },
  {
   "cell_type": "code",
   "execution_count": null,
   "metadata": {},
   "outputs": [],
   "source": []
  }
 ],
 "metadata": {
  "kernelspec": {
   "display_name": "Python 3",
   "language": "python",
   "name": "python3"
  },
  "language_info": {
   "codemirror_mode": {
    "name": "ipython",
    "version": 3
   },
   "file_extension": ".py",
   "mimetype": "text/x-python",
   "name": "python",
   "nbconvert_exporter": "python",
   "pygments_lexer": "ipython3",
   "version": "3.8.3"
  }
 },
 "nbformat": 4,
 "nbformat_minor": 4
}
