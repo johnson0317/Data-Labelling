{
 "cells": [
  {
   "cell_type": "code",
   "execution_count": 1,
   "metadata": {},
   "outputs": [],
   "source": [
    "import numpy as np\n",
    "import pandas as pd\n",
    "import pickle\n",
    "import re\n",
    "from collections import defaultdict\n",
    "from sklearn.feature_extraction.text import TfidfTransformer\n",
    "from sklearn.feature_extraction.text import CountVectorizer\n",
    "n = 4\n",
    "MAX_FEATURES = 10"
   ]
  },
  {
   "cell_type": "code",
   "execution_count": 16,
   "metadata": {},
   "outputs": [],
   "source": [
    "class form_keywords:\n",
    "    def __init__(self, location):\n",
    "        c_df = pd.read_excel('./data/google_categories.xls')\n",
    "        self.categories = set(c_df['Animals & Pet Supplies'])\n",
    "        self.cid_to_name = dict([(row[0], row[1]) for row in c_df.values])\n",
    "        df = pd.read_csv(location)\n",
    "        #df = df.drop(df[df['category_id'] == '未分類'].index)\n",
    "        self.df = df.drop(df[df['title'] != df['title']].index)                  #remove nan on title\n",
    "    def remove(self, string):\n",
    "        string = re.sub(r'(.)', r'\\g<1> ', string)\n",
    "        string = re.sub(r'([0-9])', r'', string)\n",
    "        string = re.sub(r'[a-zA-z+]', r'', string)\n",
    "        string = re.sub(r'[^\\w\\s]', r'', string)\n",
    "        return string\n",
    "    def keyword_generate(self, doc):\n",
    "        doc = [self.remove(string) for string in doc] \n",
    "        cv = CountVectorizer(max_features = MAX_FEATURES, tokenizer = lambda x: x.split(), ngram_range = (2, n))\n",
    "        try:\n",
    "            word_count_vector = cv.fit_transform(doc)\n",
    "        except ValueError:                            #no product in this category e.g. media\n",
    "            return []\n",
    "        print(cv.vocabulary_.keys())\n",
    "        return cv.vocabulary_.keys()\n",
    "    def fit(self):\n",
    "        docs = defaultdict(list)\n",
    "        key_word_table = defaultdict(list)\n",
    "        for row in self.df.values:\n",
    "            idx = int(row[10])\n",
    "            docs[self.cid_to_name[idx]].append(row[9])                             #form doc according to different categories\n",
    "        for cat in self.categories:\n",
    "            key_word_table[cat] = self.keyword_generate(docs[cat])\n",
    "        return key_word_table"
   ]
  },
  {
   "cell_type": "code",
   "execution_count": null,
   "metadata": {},
   "outputs": [],
   "source": []
  }
 ],
 "metadata": {
  "kernelspec": {
   "display_name": "Python 3",
   "language": "python",
   "name": "python3"
  },
  "language_info": {
   "codemirror_mode": {
    "name": "ipython",
    "version": 3
   },
   "file_extension": ".py",
   "mimetype": "text/x-python",
   "name": "python",
   "nbconvert_exporter": "python",
   "pygments_lexer": "ipython3",
   "version": "3.8.3"
  }
 },
 "nbformat": 4,
 "nbformat_minor": 4
}
