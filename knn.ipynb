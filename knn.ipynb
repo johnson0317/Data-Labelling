{
 "cells": [
  {
   "cell_type": "code",
   "execution_count": 1,
   "metadata": {},
   "outputs": [],
   "source": [
    "import pandas as pd\n",
    "import pickle\n",
    "import re\n",
    "import numpy as np\n",
    "from sklearn.feature_extraction.text import TfidfTransformer\n",
    "from sklearn.feature_extraction.text import CountVectorizer\n",
    "n = 3\n",
    "MAX_VOCAB = 999"
   ]
  },
  {
   "cell_type": "code",
   "execution_count": 2,
   "metadata": {},
   "outputs": [],
   "source": [
    "def form_docs(df):\n",
    "    docs = []\n",
    "    #make docs\n",
    "    for row in df.values:\n",
    "        doc = []\n",
    "        for idx, inst in enumerate(row[2:6]):\n",
    "            if inst != inst:\n",
    "                inst = '<NAN>'\n",
    "            elif idx == 1 or idx == 2:                                       #title, body_html\n",
    "                string = inst.replace('\\n', '')\n",
    "                string = re.sub(r'[a-zA-z+]', r'', string)\n",
    "                string = re.sub(r'[^\\w\\s]', r'', string)\n",
    "                string = re.sub(r'[0-9]+', r'', string)\n",
    "                string = string.replace(' ', '')\n",
    "                string = re.sub(r'(.)', '\\g<1> ', string)\n",
    "                doc.append(string)\n",
    "            else:\n",
    "                doc.append(inst)\n",
    "            sent = ' '.join(doc)\n",
    "        docs.append(sent)\n",
    "        del sent, doc, string \n",
    "    return docs"
   ]
  },
  {
   "cell_type": "code",
   "execution_count": 3,
   "metadata": {},
   "outputs": [],
   "source": [
    "with open('./labelled.pickle', 'rb') as file:\n",
    "    df = pickle.load(file)"
   ]
  },
  {
   "cell_type": "code",
   "execution_count": 4,
   "metadata": {},
   "outputs": [
    {
     "ename": "NameError",
     "evalue": "name 't_docs' is not defined",
     "output_type": "error",
     "traceback": [
      "\u001b[0;31m---------------------------------------------------------------------------\u001b[0m",
      "\u001b[0;31mNameError\u001b[0m                                 Traceback (most recent call last)",
      "\u001b[0;32m<ipython-input-4-cc8d9dbf7560>\u001b[0m in \u001b[0;36m<module>\u001b[0;34m\u001b[0m\n\u001b[1;32m      2\u001b[0m \u001b[0;31m#form tfidf table\u001b[0m\u001b[0;34m\u001b[0m\u001b[0;34m\u001b[0m\u001b[0;34m\u001b[0m\u001b[0m\n\u001b[1;32m      3\u001b[0m \u001b[0mcv\u001b[0m \u001b[0;34m=\u001b[0m \u001b[0mCountVectorizer\u001b[0m\u001b[0;34m(\u001b[0m\u001b[0mmax_features\u001b[0m \u001b[0;34m=\u001b[0m \u001b[0mMAX_VOCAB\u001b[0m\u001b[0;34m,\u001b[0m \u001b[0mtokenizer\u001b[0m \u001b[0;34m=\u001b[0m \u001b[0;32mlambda\u001b[0m \u001b[0mx\u001b[0m\u001b[0;34m:\u001b[0m \u001b[0mx\u001b[0m\u001b[0;34m.\u001b[0m\u001b[0msplit\u001b[0m\u001b[0;34m(\u001b[0m\u001b[0;34m)\u001b[0m\u001b[0;34m,\u001b[0m \u001b[0mngram_range\u001b[0m \u001b[0;34m=\u001b[0m \u001b[0;34m(\u001b[0m\u001b[0;36m1\u001b[0m\u001b[0;34m,\u001b[0m \u001b[0mn\u001b[0m\u001b[0;34m)\u001b[0m\u001b[0;34m)\u001b[0m\u001b[0;34m\u001b[0m\u001b[0;34m\u001b[0m\u001b[0m\n\u001b[0;32m----> 4\u001b[0;31m \u001b[0mword_count_vector\u001b[0m \u001b[0;34m=\u001b[0m \u001b[0mcv\u001b[0m\u001b[0;34m.\u001b[0m\u001b[0mfit_transform\u001b[0m\u001b[0;34m(\u001b[0m\u001b[0mt_docs\u001b[0m\u001b[0;34m)\u001b[0m\u001b[0;34m\u001b[0m\u001b[0;34m\u001b[0m\u001b[0m\n\u001b[0m\u001b[1;32m      5\u001b[0m \u001b[0mtfidf_trans\u001b[0m \u001b[0;34m=\u001b[0m \u001b[0mTfidfTransformer\u001b[0m\u001b[0;34m(\u001b[0m\u001b[0msmooth_idf\u001b[0m \u001b[0;34m=\u001b[0m \u001b[0;32mTrue\u001b[0m\u001b[0;34m,\u001b[0m\u001b[0muse_idf\u001b[0m \u001b[0;34m=\u001b[0m \u001b[0;32mTrue\u001b[0m\u001b[0;34m)\u001b[0m\u001b[0;34m\u001b[0m\u001b[0;34m\u001b[0m\u001b[0m\n\u001b[1;32m      6\u001b[0m \u001b[0mtfidf_trans\u001b[0m\u001b[0;34m.\u001b[0m\u001b[0mfit\u001b[0m\u001b[0;34m(\u001b[0m\u001b[0mword_count_vector\u001b[0m\u001b[0;34m)\u001b[0m\u001b[0;34m\u001b[0m\u001b[0;34m\u001b[0m\u001b[0m\n",
      "\u001b[0;31mNameError\u001b[0m: name 't_docs' is not defined"
     ]
    }
   ],
   "source": [
    "corpus = form_docs(df)\n",
    "#form tfidf table    \n",
    "cv = CountVectorizer(max_features = MAX_VOCAB, tokenizer = lambda x: x.split(), ngram_range = (1, n))\n",
    "word_count_vector = cv.fit_transform(corpus)\n",
    "tfidf_trans = TfidfTransformer(smooth_idf = True,use_idf = True) \n",
    "tfidf_trans.fit(word_count_vector)\n",
    "del word_count_vector"
   ]
  },
  {
   "cell_type": "code",
   "execution_count": 4,
   "metadata": {},
   "outputs": [],
   "source": [
    "training = df.drop(df[df['labels'] == -1].index)\n",
    "training = training.drop(training[training['price'] == 0].index)\n",
    "training = training.drop(training[training['price'] > 1000000].index)"
   ]
  },
  {
   "cell_type": "code",
   "execution_count": 5,
   "metadata": {},
   "outputs": [],
   "source": [
    "t_docs = form_docs(training)\n",
    "wordcount = cv.transform(t_docs)\n",
    "X_tfidf = tfidf_trans.transform(wordcount)"
   ]
  },
  {
   "cell_type": "code",
   "execution_count": 6,
   "metadata": {},
   "outputs": [],
   "source": [
    "norm_price = []\n",
    "for idx, inst in enumerate(training['price']):\n",
    "    if inst > 1.7976931348623157e+308:\n",
    "        norm_price.append(1)\n",
    "    else:\n",
    "        norm_price.append(1 /(1 + np.exp(-inst)))"
   ]
  },
  {
   "cell_type": "code",
   "execution_count": 7,
   "metadata": {},
   "outputs": [],
   "source": [
    "X = np.append(X_tfidf.toarray(), np.array(norm_price)[:, np.newaxis], axis = 1)\n",
    "y = training['labels']"
   ]
  },
  {
   "cell_type": "code",
   "execution_count": 8,
   "metadata": {},
   "outputs": [],
   "source": [
    "from sklearn.neighbors import KNeighborsClassifier\n",
    "neigh = KNeighborsClassifier(n_neighbors = 9)\n",
    "neigh.fit(X, y)\n",
    "testing = df.drop(df[df['labels'] != -1].index)"
   ]
  },
  {
   "cell_type": "code",
   "execution_count": null,
   "metadata": {},
   "outputs": [],
   "source": [
    "test_docs = form_docs(testing)\n",
    "t_wordcount = cv.transform(test_docs)\n",
    "test_tfidf = tfidf_trans.transform(t_wordcount)\n",
    "pred = neigh.predict(test_tfidf)\n",
    "result = {'product_id':testing['id'], 'category_id':pred}\n",
    "result = pd.DataFrame(result)\n",
    "with open('./result.pickle', 'wb') as out:\n",
    "    pickle.dump(result, out)"
   ]
  },
  {
   "cell_type": "code",
   "execution_count": 30,
   "metadata": {},
   "outputs": [],
   "source": [
    "with open('./labelled.pickle', 'rb') as file:\n",
    "    df = pickle.load(file)"
   ]
  },
  {
   "cell_type": "code",
   "execution_count": 1,
   "metadata": {
    "scrolled": true
   },
   "outputs": [
    {
     "name": "stdout",
     "output_type": "stream",
     "text": [
      "Opening Data...\n",
      "Forming Tfidf Table...\n",
      "Cleansing Data...\n",
      "Forming Training Tfidf Vectors...\n",
      "Normalizing Training Price...\n",
      "Start Training Process...\n",
      "Finished Training\n",
      "Forming Testing Tfidf Vectors...\n"
     ]
    }
   ],
   "source": [
    "import pandas as pd\n",
    "import pickle\n",
    "import re\n",
    "import numpy as np\n",
    "from sklearn.feature_extraction.text import TfidfTransformer\n",
    "from sklearn.feature_extraction.text import CountVectorizer\n",
    "from sklearn.neighbors import KNeighborsClassifier\n",
    "\n",
    "n = 3\n",
    "MAX_VOCAB = 999\n",
    "\n",
    "def form_docs(df):\n",
    "    docs = []\n",
    "    #make docs\n",
    "    for row in df.values:\n",
    "        doc = []\n",
    "        for idx, inst in enumerate(row[2:6]):\n",
    "            if inst != inst:\n",
    "                inst = '<NAN>'\n",
    "            elif idx == 3 or idx == 4:                                       #title, body_html\n",
    "                string = inst.replace('\\n', '')\n",
    "                string = re.sub(r'[a-zA-z+]', r'', string)\n",
    "                string = re.sub(r'[^\\w\\s]', r'', string)\n",
    "                string = re.sub(r'[0-9]+', r'', string)\n",
    "                string = string.replace(' ', '')\n",
    "                string = re.sub(r'(.)', '\\g<1> ', string)\n",
    "                doc.append(string)\n",
    "            else:\n",
    "                doc.append(inst)\n",
    "            sent = ' '.join(doc)\n",
    "        docs.append(sent)\n",
    "        del sent, doc, string \n",
    "    return docs\n",
    "if __name__ == '__main__':\n",
    "    \n",
    "    print('Opening Data...')\n",
    "    with open('./labelled.pickle', 'rb') as file:\n",
    "        df = pickle.load(file)\n",
    "    \n",
    "    print('Forming Tfidf Table...')\n",
    "    #form tfidf table   \n",
    "    corpus = form_docs(df) \n",
    "    cv = CountVectorizer(max_features = MAX_VOCAB, tokenizer = lambda x: x.split(), ngram_range = (1, n))\n",
    "    word_count_vector = cv.fit_transform(corpus)\n",
    "    tfidf_trans = TfidfTransformer(smooth_idf = True,use_idf = True) \n",
    "    tfidf_trans.fit(word_count_vector)\n",
    "    del word_count_vector, corpus\n",
    "    \n",
    "    print('Cleansing Data...')\n",
    "    training = df.drop(df[df['labels'] == -1].index)\n",
    "    training = training.drop(training[training['price'] == 0].index)\n",
    "    training = training.drop(training[training['price'] > 1000000].index)\n",
    "    \n",
    "    print('Forming Training Tfidf Vectors...')\n",
    "    t_docs = form_docs(training)\n",
    "    wordcount = cv.transform(t_docs)\n",
    "    X_tfidf = tfidf_trans.transform(wordcount)\n",
    "    del wordcount, t_docs\n",
    "\n",
    "    print('Normalizing Training Price...')\n",
    "    norm_price = []\n",
    "    for idx, inst in enumerate(training['price']):\n",
    "        if inst > 1.7976931348623157e+308:\n",
    "            norm_price.append(1)\n",
    "        else:\n",
    "            norm_price.append(1 /(1 + np.exp(-inst)))\n",
    "    X = np.append(X_tfidf.toarray(), np.array(norm_price)[:, np.newaxis], axis = 1)\n",
    "    y = training['labels']\n",
    "    \n",
    "    print('Start Training Process...')\n",
    "    neigh = KNeighborsClassifier(n_neighbors = 5)\n",
    "    neigh.fit(X, y)\n",
    "    del X_tfidf, norm_price\n",
    "    print('Finished Training')\n",
    "    \n",
    "    print('Forming Testing Tfidf Vectors...')\n",
    "    testing = df.drop(df[df['labels'] != -1].index)\n",
    "    test_docs = form_docs(testing)\n",
    "    t_wordcount = cv.transform(test_docs)\n",
    "    test_tfidf = tfidf_trans.transform(t_wordcount)\n",
    "    del t_wordcount, test_docs\n",
    "    \n",
    "    "
   ]
  },
  {
   "cell_type": "code",
   "execution_count": 3,
   "metadata": {},
   "outputs": [
    {
     "name": "stdout",
     "output_type": "stream",
     "text": [
      "Normalizing Testing Price...\n"
     ]
    }
   ],
   "source": [
    "print('Normalizing Testing Price...')\n",
    "t_norm_price = []\n",
    "for idx, inst in enumerate(testing['price']):\n",
    "    if inst > 1.7976931348623157e+308:\n",
    "        t_norm_price.append(1)\n",
    "    else:\n",
    "        t_norm_price.append(1 /(1 + np.exp(-inst)))"
   ]
  },
  {
   "cell_type": "code",
   "execution_count": 4,
   "metadata": {
    "scrolled": true
   },
   "outputs": [
    {
     "name": "stdout",
     "output_type": "stream",
     "text": [
      "(819561,)\n"
     ]
    }
   ],
   "source": [
    "print(np.array(t_norm_price).shape)"
   ]
  },
  {
   "cell_type": "code",
   "execution_count": 5,
   "metadata": {},
   "outputs": [
    {
     "data": {
      "text/plain": [
       "(819561, 999)"
      ]
     },
     "execution_count": 5,
     "metadata": {},
     "output_type": "execute_result"
    }
   ],
   "source": [
    "np.array(test_tfidf.toarray()).shape"
   ]
  },
  {
   "cell_type": "code",
   "execution_count": 6,
   "metadata": {},
   "outputs": [
    {
     "name": "stdout",
     "output_type": "stream",
     "text": [
      "Start Label Prediction...\n",
      "Saving Prediction...\n",
      "Process Finished.\n"
     ]
    }
   ],
   "source": [
    "X = np.append(test_tfidf.toarray(), np.array(t_norm_price)[:, np.newaxis], axis = 1)\n",
    "del t_norm_price\n",
    "\n",
    "print('Start Label Prediction...')\n",
    "pred = neigh.predict(X)\n",
    "result = {'product_id':testing['id'], 'category_id':pred}\n",
    "result = pd.DataFrame(result)\n",
    "\n",
    "print('Saving Prediction...')\n",
    "with open('./result.pickle', 'wb') as out:\n",
    "    pickle.dump(result, out)\n",
    "print('Process Finished.')\n"
   ]
  },
  {
   "cell_type": "code",
   "execution_count": 1,
   "metadata": {},
   "outputs": [],
   "source": [
    "import pickle\n",
    "with open('./labelled.pickle', 'rb') as file:\n",
    "    df = pickle.load(file)"
   ]
  },
  {
   "cell_type": "code",
   "execution_count": 2,
   "metadata": {},
   "outputs": [
    {
     "data": {
      "text/html": [
       "<div>\n",
       "<style scoped>\n",
       "    .dataframe tbody tr th:only-of-type {\n",
       "        vertical-align: middle;\n",
       "    }\n",
       "\n",
       "    .dataframe tbody tr th {\n",
       "        vertical-align: top;\n",
       "    }\n",
       "\n",
       "    .dataframe thead th {\n",
       "        text-align: right;\n",
       "    }\n",
       "</style>\n",
       "<table border=\"1\" class=\"dataframe\">\n",
       "  <thead>\n",
       "    <tr style=\"text-align: right;\">\n",
       "      <th></th>\n",
       "      <th>id</th>\n",
       "      <th>shop_id</th>\n",
       "      <th>handle</th>\n",
       "      <th>title</th>\n",
       "      <th>body_html</th>\n",
       "      <th>product_type</th>\n",
       "      <th>price</th>\n",
       "      <th>labels</th>\n",
       "    </tr>\n",
       "  </thead>\n",
       "  <tbody>\n",
       "    <tr>\n",
       "      <th>0</th>\n",
       "      <td>15207</td>\n",
       "      <td>1526</td>\n",
       "      <td>e03</td>\n",
       "      <td>全麥核桃</td>\n",
       "      <td>&lt;p&gt;用心選用整粒麥子研磨的全粒麵粉，完整保留麥子的營養與濃郁香氣；外皮酥軟，配上鬆脆的核桃...</td>\n",
       "      <td>歐式麵包</td>\n",
       "      <td>85.0</td>\n",
       "      <td>-1</td>\n",
       "    </tr>\n",
       "    <tr>\n",
       "      <th>1</th>\n",
       "      <td>15207</td>\n",
       "      <td>1526</td>\n",
       "      <td>e03</td>\n",
       "      <td>全麥核桃</td>\n",
       "      <td>&lt;p&gt;用心選用整粒麥子研磨的全粒麵粉，完整保留麥子的營養與濃郁香氣；外皮酥軟，配上鬆脆的核桃...</td>\n",
       "      <td>歐式麵包</td>\n",
       "      <td>85.0</td>\n",
       "      <td>-1</td>\n",
       "    </tr>\n",
       "    <tr>\n",
       "      <th>2</th>\n",
       "      <td>15207</td>\n",
       "      <td>1526</td>\n",
       "      <td>e03</td>\n",
       "      <td>全麥核桃</td>\n",
       "      <td>&lt;p&gt;用心選用整粒麥子研磨的全粒麵粉，完整保留麥子的營養與濃郁香氣；外皮酥軟，配上鬆脆的核桃...</td>\n",
       "      <td>歐式麵包</td>\n",
       "      <td>85.0</td>\n",
       "      <td>-1</td>\n",
       "    </tr>\n",
       "    <tr>\n",
       "      <th>3</th>\n",
       "      <td>16354</td>\n",
       "      <td>1282</td>\n",
       "      <td>dual-ribbons</td>\n",
       "      <td>特價 - 雙彩蝴蝶結（0-6個月, 10-12歲）</td>\n",
       "      <td>&lt;div style=\"font-family: Tahoma, Arial, sans-s...</td>\n",
       "      <td>經典公主襪</td>\n",
       "      <td>159.0</td>\n",
       "      <td>-1</td>\n",
       "    </tr>\n",
       "    <tr>\n",
       "      <th>4</th>\n",
       "      <td>16354</td>\n",
       "      <td>1282</td>\n",
       "      <td>dual-ribbons</td>\n",
       "      <td>特價 - 雙彩蝴蝶結（0-6個月, 10-12歲）</td>\n",
       "      <td>&lt;div style=\"font-family: Tahoma, Arial, sans-s...</td>\n",
       "      <td>經典公主襪</td>\n",
       "      <td>159.0</td>\n",
       "      <td>-1</td>\n",
       "    </tr>\n",
       "  </tbody>\n",
       "</table>\n",
       "</div>"
      ],
      "text/plain": [
       "      id  shop_id        handle                      title  \\\n",
       "0  15207     1526           e03                       全麥核桃   \n",
       "1  15207     1526           e03                       全麥核桃   \n",
       "2  15207     1526           e03                       全麥核桃   \n",
       "3  16354     1282  dual-ribbons  特價 - 雙彩蝴蝶結（0-6個月, 10-12歲）   \n",
       "4  16354     1282  dual-ribbons  特價 - 雙彩蝴蝶結（0-6個月, 10-12歲）   \n",
       "\n",
       "                                           body_html product_type  price  \\\n",
       "0  <p>用心選用整粒麥子研磨的全粒麵粉，完整保留麥子的營養與濃郁香氣；外皮酥軟，配上鬆脆的核桃...         歐式麵包   85.0   \n",
       "1  <p>用心選用整粒麥子研磨的全粒麵粉，完整保留麥子的營養與濃郁香氣；外皮酥軟，配上鬆脆的核桃...         歐式麵包   85.0   \n",
       "2  <p>用心選用整粒麥子研磨的全粒麵粉，完整保留麥子的營養與濃郁香氣；外皮酥軟，配上鬆脆的核桃...         歐式麵包   85.0   \n",
       "3  <div style=\"font-family: Tahoma, Arial, sans-s...        經典公主襪  159.0   \n",
       "4  <div style=\"font-family: Tahoma, Arial, sans-s...        經典公主襪  159.0   \n",
       "\n",
       "   labels  \n",
       "0      -1  \n",
       "1      -1  \n",
       "2      -1  \n",
       "3      -1  \n",
       "4      -1  "
      ]
     },
     "execution_count": 2,
     "metadata": {},
     "output_type": "execute_result"
    }
   ],
   "source": [
    "df.head()"
   ]
  },
  {
   "cell_type": "code",
   "execution_count": null,
   "metadata": {},
   "outputs": [],
   "source": []
  }
 ],
 "metadata": {
  "kernelspec": {
   "display_name": "Python 3",
   "language": "python",
   "name": "python3"
  },
  "language_info": {
   "codemirror_mode": {
    "name": "ipython",
    "version": 3
   },
   "file_extension": ".py",
   "mimetype": "text/x-python",
   "name": "python",
   "nbconvert_exporter": "python",
   "pygments_lexer": "ipython3",
   "version": "3.8.3"
  }
 },
 "nbformat": 4,
 "nbformat_minor": 4
}
