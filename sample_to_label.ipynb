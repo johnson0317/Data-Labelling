{
 "cells": [
  {
   "cell_type": "code",
   "execution_count": 1,
   "metadata": {},
   "outputs": [],
   "source": [
    "import numpy as np\n",
    "import pandas as pd"
   ]
  },
  {
   "cell_type": "code",
   "execution_count": 2,
   "metadata": {},
   "outputs": [],
   "source": [
    "sampled = pd.read_csv('./sampled.csv')"
   ]
  },
  {
   "cell_type": "code",
   "execution_count": 3,
   "metadata": {},
   "outputs": [
    {
     "data": {
      "text/html": [
       "<div>\n",
       "<style scoped>\n",
       "    .dataframe tbody tr th:only-of-type {\n",
       "        vertical-align: middle;\n",
       "    }\n",
       "\n",
       "    .dataframe tbody tr th {\n",
       "        vertical-align: top;\n",
       "    }\n",
       "\n",
       "    .dataframe thead th {\n",
       "        text-align: right;\n",
       "    }\n",
       "</style>\n",
       "<table border=\"1\" class=\"dataframe\">\n",
       "  <thead>\n",
       "    <tr style=\"text-align: right;\">\n",
       "      <th></th>\n",
       "      <th>Unnamed: 0</th>\n",
       "      <th>shop_id</th>\n",
       "      <th>product_id</th>\n",
       "      <th>price</th>\n",
       "      <th>title</th>\n",
       "      <th>category_id</th>\n",
       "      <th>labels</th>\n",
       "      <th>cat_name</th>\n",
       "    </tr>\n",
       "  </thead>\n",
       "  <tbody>\n",
       "    <tr>\n",
       "      <th>0</th>\n",
       "      <td>0</td>\n",
       "      <td>11121</td>\n",
       "      <td>23184364</td>\n",
       "      <td>135.0</td>\n",
       "      <td>Hello Kitty 小雞-馬克杯</td>\n",
       "      <td>2169</td>\n",
       "      <td>2169</td>\n",
       "      <td>Home &amp; Garden</td>\n",
       "    </tr>\n",
       "    <tr>\n",
       "      <th>1</th>\n",
       "      <td>1</td>\n",
       "      <td>9810</td>\n",
       "      <td>28654634</td>\n",
       "      <td>880.0</td>\n",
       "      <td>現貨- 自由剪裁彈性刀割牛仔褲  1948</td>\n",
       "      <td>204</td>\n",
       "      <td>204</td>\n",
       "      <td>Apparel &amp; Accessories</td>\n",
       "    </tr>\n",
       "    <tr>\n",
       "      <th>2</th>\n",
       "      <td>2</td>\n",
       "      <td>9913</td>\n",
       "      <td>535895</td>\n",
       "      <td>180.0</td>\n",
       "      <td>【TGOP】群人寶寶襪子（潮流黑）</td>\n",
       "      <td>209</td>\n",
       "      <td>209</td>\n",
       "      <td>Apparel &amp; Accessories</td>\n",
       "    </tr>\n",
       "    <tr>\n",
       "      <th>3</th>\n",
       "      <td>3</td>\n",
       "      <td>3714</td>\n",
       "      <td>436288</td>\n",
       "      <td>1380.0</td>\n",
       "      <td>長袖襯衫-183JC1100BLI</td>\n",
       "      <td>1604</td>\n",
       "      <td>1604</td>\n",
       "      <td>Apparel &amp; Accessories</td>\n",
       "    </tr>\n",
       "    <tr>\n",
       "      <th>4</th>\n",
       "      <td>4</td>\n",
       "      <td>5050</td>\n",
       "      <td>30486437</td>\n",
       "      <td>764.0</td>\n",
       "      <td>台灣 MOOMU 馬卡龍香草軟積木 40pcs/組 (贈收納袋+角色立體場景紙卡)</td>\n",
       "      <td>3617</td>\n",
       "      <td>3617</td>\n",
       "      <td>Toys &amp; Games</td>\n",
       "    </tr>\n",
       "  </tbody>\n",
       "</table>\n",
       "</div>"
      ],
      "text/plain": [
       "   Unnamed: 0  shop_id  product_id   price  \\\n",
       "0           0    11121    23184364   135.0   \n",
       "1           1     9810    28654634   880.0   \n",
       "2           2     9913      535895   180.0   \n",
       "3           3     3714      436288  1380.0   \n",
       "4           4     5050    30486437   764.0   \n",
       "\n",
       "                                       title  category_id  labels  \\\n",
       "0                         Hello Kitty 小雞-馬克杯         2169    2169   \n",
       "1                      現貨- 自由剪裁彈性刀割牛仔褲  1948          204     204   \n",
       "2                          【TGOP】群人寶寶襪子（潮流黑）          209     209   \n",
       "3                          長袖襯衫-183JC1100BLI         1604    1604   \n",
       "4  台灣 MOOMU 馬卡龍香草軟積木 40pcs/組 (贈收納袋+角色立體場景紙卡)         3617    3617   \n",
       "\n",
       "                cat_name  \n",
       "0          Home & Garden  \n",
       "1  Apparel & Accessories  \n",
       "2  Apparel & Accessories  \n",
       "3  Apparel & Accessories  \n",
       "4           Toys & Games  "
      ]
     },
     "execution_count": 3,
     "metadata": {},
     "output_type": "execute_result"
    }
   ],
   "source": [
    "sampled.head()"
   ]
  },
  {
   "cell_type": "code",
   "execution_count": 4,
   "metadata": {},
   "outputs": [],
   "source": [
    "pid_to_cid = {}\n",
    "for row in sampled.values:\n",
    "    pid, catid = row[2], row[5]\n",
    "    pid_to_cid[pid] = catid"
   ]
  },
  {
   "cell_type": "code",
   "execution_count": 5,
   "metadata": {
    "scrolled": false
   },
   "outputs": [
    {
     "name": "stderr",
     "output_type": "stream",
     "text": [
      "/Users/jackson/.pyenv/versions/3.8.3/lib/python3.8/site-packages/IPython/core/interactiveshell.py:3146: DtypeWarning: Columns (13,24) have mixed types.Specify dtype option on import or set low_memory=False.\n",
      "  has_raised = await self.run_ast_nodes(code_ast.body, cell_name,\n",
      "/Users/jackson/.pyenv/versions/3.8.3/lib/python3.8/site-packages/IPython/core/interactiveshell.py:3146: DtypeWarning: Columns (13,21,24) have mixed types.Specify dtype option on import or set low_memory=False.\n",
      "  has_raised = await self.run_ast_nodes(code_ast.body, cell_name,\n"
     ]
    }
   ],
   "source": [
    "df0 = pd.read_csv('./big_query_0.csv')\n",
    "df1 = pd.read_csv('./big_query_1.csv')"
   ]
  },
  {
   "cell_type": "code",
   "execution_count": 6,
   "metadata": {},
   "outputs": [],
   "source": [
    "idx = df0['id'].append(df1['id'])"
   ]
  },
  {
   "cell_type": "code",
   "execution_count": 7,
   "metadata": {},
   "outputs": [
    {
     "data": {
      "text/plain": [
       "826060"
      ]
     },
     "execution_count": 7,
     "metadata": {},
     "output_type": "execute_result"
    }
   ],
   "source": [
    "len(idx)"
   ]
  },
  {
   "cell_type": "code",
   "execution_count": 8,
   "metadata": {
    "scrolled": false
   },
   "outputs": [],
   "source": [
    "l = []\n",
    "kcount = 0\n",
    "for i in idx:\n",
    "    try:\n",
    "        l.append(pid_to_cid[i])\n",
    "    except KeyError:\n",
    "        kcount += 1\n",
    "        l.append(-1)"
   ]
  },
  {
   "cell_type": "code",
   "execution_count": 9,
   "metadata": {},
   "outputs": [
    {
     "data": {
      "text/plain": [
       "824338"
      ]
     },
     "execution_count": 9,
     "metadata": {},
     "output_type": "execute_result"
    }
   ],
   "source": [
    "kcount"
   ]
  },
  {
   "cell_type": "code",
   "execution_count": 10,
   "metadata": {},
   "outputs": [],
   "source": [
    "shop_id = df0['shop_id'].append(df1['shop_id'])\n",
    "handle = df0['handle'].append(df1['handle'])\n",
    "title = df0['title'].append(df1['title'])\n",
    "body_html = df0['body_html'].append(df1['body_html'])\n",
    "p_type = df0['product_type'].append(df1['product_type'])\n",
    "price = df0['price'].append(df1['price'])"
   ]
  },
  {
   "cell_type": "code",
   "execution_count": 11,
   "metadata": {},
   "outputs": [],
   "source": [
    "new_df = {'id': idx, 'shop_id': shop_id, 'handle': handle, 'title':title, 'body_html':body_html, 'product_type':p_type, 'price':price, 'labels':l}"
   ]
  },
  {
   "cell_type": "code",
   "execution_count": 12,
   "metadata": {},
   "outputs": [],
   "source": [
    "new_df = pd.DataFrame(new_df)"
   ]
  },
  {
   "cell_type": "code",
   "execution_count": 13,
   "metadata": {},
   "outputs": [],
   "source": [
    "import pickle\n",
    "with open('./labelled.pickle', 'wb') as out:\n",
    "    pickle.dump(new_df, out)"
   ]
  },
  {
   "cell_type": "code",
   "execution_count": null,
   "metadata": {},
   "outputs": [],
   "source": []
  },
  {
   "cell_type": "code",
   "execution_count": null,
   "metadata": {},
   "outputs": [],
   "source": []
  },
  {
   "cell_type": "code",
   "execution_count": 25,
   "metadata": {},
   "outputs": [],
   "source": [
    "id_to_id = pd.read_excel('./taxonomy-with-ids.en-US.xls')"
   ]
  },
  {
   "cell_type": "code",
   "execution_count": 31,
   "metadata": {},
   "outputs": [],
   "source": [
    "cat_to_name = {}\n",
    "for row in id_to_id.values:\n",
    "    cat_to_name[row[0]] = row[1]"
   ]
  },
  {
   "cell_type": "code",
   "execution_count": 32,
   "metadata": {},
   "outputs": [],
   "source": [
    "with open('./cat_to_name.pickle', 'wb') as out:\n",
    "    pickle.dump(cat_to_name, out)"
   ]
  },
  {
   "cell_type": "code",
   "execution_count": 33,
   "metadata": {},
   "outputs": [
    {
     "data": {
      "text/plain": [
       "'Home & Garden'"
      ]
     },
     "execution_count": 33,
     "metadata": {},
     "output_type": "execute_result"
    }
   ],
   "source": [
    "cat_to_name[4546]"
   ]
  },
  {
   "cell_type": "code",
   "execution_count": 37,
   "metadata": {},
   "outputs": [
    {
     "data": {
      "text/plain": [
       "'Electronics'"
      ]
     },
     "execution_count": 37,
     "metadata": {},
     "output_type": "execute_result"
    }
   ],
   "source": [
    "cat_to_name[259]"
   ]
  },
  {
   "cell_type": "code",
   "execution_count": 3,
   "metadata": {},
   "outputs": [],
   "source": [
    "import pickle\n",
    "result = pd.read_csv('./labels.csv')\n",
    "with open('./cat_to_name.pickle', 'rb') as file:\n",
    "    cat_to_name = pickle.load(file)"
   ]
  },
  {
   "cell_type": "code",
   "execution_count": 4,
   "metadata": {},
   "outputs": [
    {
     "data": {
      "text/html": [
       "<div>\n",
       "<style scoped>\n",
       "    .dataframe tbody tr th:only-of-type {\n",
       "        vertical-align: middle;\n",
       "    }\n",
       "\n",
       "    .dataframe tbody tr th {\n",
       "        vertical-align: top;\n",
       "    }\n",
       "\n",
       "    .dataframe thead th {\n",
       "        text-align: right;\n",
       "    }\n",
       "</style>\n",
       "<table border=\"1\" class=\"dataframe\">\n",
       "  <thead>\n",
       "    <tr style=\"text-align: right;\">\n",
       "      <th></th>\n",
       "      <th>shop_id</th>\n",
       "      <th>product_id</th>\n",
       "      <th>price</th>\n",
       "      <th>title</th>\n",
       "      <th>category_id</th>\n",
       "    </tr>\n",
       "  </thead>\n",
       "  <tbody>\n",
       "    <tr>\n",
       "      <th>0</th>\n",
       "      <td>9472</td>\n",
       "      <td>492703</td>\n",
       "      <td>25.0</td>\n",
       "      <td>玉米粒(普通蓋) Sweet whole krenel corn</td>\n",
       "      <td>6609</td>\n",
       "    </tr>\n",
       "    <tr>\n",
       "      <th>1</th>\n",
       "      <td>9472</td>\n",
       "      <td>492704</td>\n",
       "      <td>27.0</td>\n",
       "      <td>玉米粒(易開罐) Sweet whole krenel corn</td>\n",
       "      <td>6609</td>\n",
       "    </tr>\n",
       "    <tr>\n",
       "      <th>2</th>\n",
       "      <td>9472</td>\n",
       "      <td>527257</td>\n",
       "      <td>200.0</td>\n",
       "      <td>小資嘗鮮罐頭禮盒(6入/盒)</td>\n",
       "      <td>5091</td>\n",
       "    </tr>\n",
       "    <tr>\n",
       "      <th>3</th>\n",
       "      <td>9472</td>\n",
       "      <td>527316</td>\n",
       "      <td>240.0</td>\n",
       "      <td>好媽媽熱銷罐頭禮盒(7入/盒)</td>\n",
       "      <td>5091</td>\n",
       "    </tr>\n",
       "    <tr>\n",
       "      <th>4</th>\n",
       "      <td>9472</td>\n",
       "      <td>492710</td>\n",
       "      <td>65.0</td>\n",
       "      <td>精選鳳梨片(10片) 易開罐 Choice sliced Pineapple in heav...</td>\n",
       "      <td>6670</td>\n",
       "    </tr>\n",
       "  </tbody>\n",
       "</table>\n",
       "</div>"
      ],
      "text/plain": [
       "   shop_id  product_id  price  \\\n",
       "0     9472      492703   25.0   \n",
       "1     9472      492704   27.0   \n",
       "2     9472      527257  200.0   \n",
       "3     9472      527316  240.0   \n",
       "4     9472      492710   65.0   \n",
       "\n",
       "                                               title  category_id  \n",
       "0                   玉米粒(普通蓋) Sweet whole krenel corn         6609  \n",
       "1                   玉米粒(易開罐) Sweet whole krenel corn         6609  \n",
       "2                                     小資嘗鮮罐頭禮盒(6入/盒)         5091  \n",
       "3                                    好媽媽熱銷罐頭禮盒(7入/盒)         5091  \n",
       "4  精選鳳梨片(10片) 易開罐 Choice sliced Pineapple in heav...         6670  "
      ]
     },
     "execution_count": 4,
     "metadata": {},
     "output_type": "execute_result"
    }
   ],
   "source": [
    "result.head()"
   ]
  },
  {
   "cell_type": "code",
   "execution_count": 5,
   "metadata": {},
   "outputs": [],
   "source": [
    "name = []\n",
    "for cid in result['category_id']:\n",
    "    name.append(cat_to_name[cid])"
   ]
  },
  {
   "cell_type": "code",
   "execution_count": 6,
   "metadata": {},
   "outputs": [],
   "source": [
    "result = {'shop_id':result['shop_id'], 'product_id':result['product_id'], 'price':result['price'], 'title':result['title'], 'category_id':result['category_id'], 'cat_name':name}"
   ]
  },
  {
   "cell_type": "code",
   "execution_count": 7,
   "metadata": {},
   "outputs": [],
   "source": [
    "result = pd.DataFrame(result)\n",
    "result.to_csv('./labels_.csv')"
   ]
  },
  {
   "cell_type": "code",
   "execution_count": 2,
   "metadata": {},
   "outputs": [],
   "source": [
    "label = pd.read_csv('./labels_.csv')"
   ]
  },
  {
   "cell_type": "code",
   "execution_count": 9,
   "metadata": {},
   "outputs": [
    {
     "data": {
      "text/html": [
       "<div>\n",
       "<style scoped>\n",
       "    .dataframe tbody tr th:only-of-type {\n",
       "        vertical-align: middle;\n",
       "    }\n",
       "\n",
       "    .dataframe tbody tr th {\n",
       "        vertical-align: top;\n",
       "    }\n",
       "\n",
       "    .dataframe thead th {\n",
       "        text-align: right;\n",
       "    }\n",
       "</style>\n",
       "<table border=\"1\" class=\"dataframe\">\n",
       "  <thead>\n",
       "    <tr style=\"text-align: right;\">\n",
       "      <th></th>\n",
       "      <th>Unnamed: 0</th>\n",
       "      <th>shop_id</th>\n",
       "      <th>product_id</th>\n",
       "      <th>price</th>\n",
       "      <th>title</th>\n",
       "      <th>category_id</th>\n",
       "      <th>cat_name</th>\n",
       "    </tr>\n",
       "  </thead>\n",
       "  <tbody>\n",
       "    <tr>\n",
       "      <th>0</th>\n",
       "      <td>0</td>\n",
       "      <td>9472</td>\n",
       "      <td>492703</td>\n",
       "      <td>25.0</td>\n",
       "      <td>玉米粒(普通蓋) Sweet whole krenel corn</td>\n",
       "      <td>6609</td>\n",
       "      <td>Food, Beverages &amp; Tobacco</td>\n",
       "    </tr>\n",
       "    <tr>\n",
       "      <th>1</th>\n",
       "      <td>1</td>\n",
       "      <td>9472</td>\n",
       "      <td>492704</td>\n",
       "      <td>27.0</td>\n",
       "      <td>玉米粒(易開罐) Sweet whole krenel corn</td>\n",
       "      <td>6609</td>\n",
       "      <td>Food, Beverages &amp; Tobacco</td>\n",
       "    </tr>\n",
       "    <tr>\n",
       "      <th>2</th>\n",
       "      <td>2</td>\n",
       "      <td>9472</td>\n",
       "      <td>527257</td>\n",
       "      <td>200.0</td>\n",
       "      <td>小資嘗鮮罐頭禮盒(6入/盒)</td>\n",
       "      <td>6609</td>\n",
       "      <td>Food, Beverages &amp; Tobacco</td>\n",
       "    </tr>\n",
       "    <tr>\n",
       "      <th>3</th>\n",
       "      <td>3</td>\n",
       "      <td>9472</td>\n",
       "      <td>527316</td>\n",
       "      <td>240.0</td>\n",
       "      <td>好媽媽熱銷罐頭禮盒(7入/盒)</td>\n",
       "      <td>6609</td>\n",
       "      <td>Food, Beverages &amp; Tobacco</td>\n",
       "    </tr>\n",
       "    <tr>\n",
       "      <th>4</th>\n",
       "      <td>4</td>\n",
       "      <td>9472</td>\n",
       "      <td>492710</td>\n",
       "      <td>65.0</td>\n",
       "      <td>精選鳳梨片(10片) 易開罐 Choice sliced Pineapple in heav...</td>\n",
       "      <td>6670</td>\n",
       "      <td>Food, Beverages &amp; Tobacco</td>\n",
       "    </tr>\n",
       "  </tbody>\n",
       "</table>\n",
       "</div>"
      ],
      "text/plain": [
       "   Unnamed: 0  shop_id  product_id  price  \\\n",
       "0           0     9472      492703   25.0   \n",
       "1           1     9472      492704   27.0   \n",
       "2           2     9472      527257  200.0   \n",
       "3           3     9472      527316  240.0   \n",
       "4           4     9472      492710   65.0   \n",
       "\n",
       "                                               title  category_id  \\\n",
       "0                   玉米粒(普通蓋) Sweet whole krenel corn         6609   \n",
       "1                   玉米粒(易開罐) Sweet whole krenel corn         6609   \n",
       "2                                     小資嘗鮮罐頭禮盒(6入/盒)         6609   \n",
       "3                                    好媽媽熱銷罐頭禮盒(7入/盒)         6609   \n",
       "4  精選鳳梨片(10片) 易開罐 Choice sliced Pineapple in heav...         6670   \n",
       "\n",
       "                    cat_name  \n",
       "0  Food, Beverages & Tobacco  \n",
       "1  Food, Beverages & Tobacco  \n",
       "2  Food, Beverages & Tobacco  \n",
       "3  Food, Beverages & Tobacco  \n",
       "4  Food, Beverages & Tobacco  "
      ]
     },
     "execution_count": 9,
     "metadata": {},
     "output_type": "execute_result"
    }
   ],
   "source": [
    "label.head()"
   ]
  },
  {
   "cell_type": "code",
   "execution_count": 3,
   "metadata": {},
   "outputs": [],
   "source": [
    "id_to_id = pd.read_excel('./taxonomy-with-ids.en-US.xls')"
   ]
  },
  {
   "cell_type": "code",
   "execution_count": 4,
   "metadata": {},
   "outputs": [],
   "source": [
    "categories = []\n",
    "for sec_col in id_to_id['Animals & Pet Supplies']:\n",
    "    categories.append(sec_col)"
   ]
  },
  {
   "cell_type": "code",
   "execution_count": 5,
   "metadata": {},
   "outputs": [],
   "source": [
    "categories = set(categories)"
   ]
  },
  {
   "cell_type": "code",
   "execution_count": 6,
   "metadata": {},
   "outputs": [],
   "source": [
    "cat_count = dict([(cat_name, 100) for cat_name in categories])"
   ]
  },
  {
   "cell_type": "code",
   "execution_count": 7,
   "metadata": {},
   "outputs": [],
   "source": [
    "sample = []\n",
    "for row in label.values:\n",
    "    temp = []\n",
    "    if cat_count[row[6]] > 0:\n",
    "        temp.append(row[0])\n",
    "        temp.append(row[1])\n",
    "        temp.append(row[2])\n",
    "        temp.append(row[3])\n",
    "        temp.append(row[4])\n",
    "        temp.append(row[5])\n",
    "        temp.append(row[6])\n",
    "        cat_count[row[6]] -= 1\n",
    "        sample.append(temp)"
   ]
  },
  {
   "cell_type": "code",
   "execution_count": 8,
   "metadata": {},
   "outputs": [],
   "source": [
    "sample = pd.DataFrame(sample, columns = ['Unnamed', 'shop_id', 'product_id', 'price', 'title', 'category_id', 'cat_name'])"
   ]
  },
  {
   "cell_type": "code",
   "execution_count": 9,
   "metadata": {},
   "outputs": [],
   "source": [
    "sample.to_csv('./sampled.csv')"
   ]
  },
  {
   "cell_type": "code",
   "execution_count": 10,
   "metadata": {},
   "outputs": [
    {
     "data": {
      "text/plain": [
       "1641"
      ]
     },
     "execution_count": 10,
     "metadata": {},
     "output_type": "execute_result"
    }
   ],
   "source": [
    "len(sample)"
   ]
  },
  {
   "cell_type": "code",
   "execution_count": null,
   "metadata": {},
   "outputs": [],
   "source": []
  }
 ],
 "metadata": {
  "kernelspec": {
   "display_name": "Python 3",
   "language": "python",
   "name": "python3"
  },
  "language_info": {
   "codemirror_mode": {
    "name": "ipython",
    "version": 3
   },
   "file_extension": ".py",
   "mimetype": "text/x-python",
   "name": "python",
   "nbconvert_exporter": "python",
   "pygments_lexer": "ipython3",
   "version": "3.8.3"
  }
 },
 "nbformat": 4,
 "nbformat_minor": 4
}
